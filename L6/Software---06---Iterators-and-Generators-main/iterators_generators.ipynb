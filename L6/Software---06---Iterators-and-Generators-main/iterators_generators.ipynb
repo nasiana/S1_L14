{
 "cells": [
  {
   "cell_type": "markdown",
   "metadata": {},
   "source": [
    "## Today's agenda: \n",
    "\n",
    "1. Iterator\n",
    "2. How to create a custom iterator\n",
    "3. How to create a generator\n",
    "4. Iterator vs Generator "
   ]
  },
  {
   "cell_type": "markdown",
   "metadata": {},
   "source": [
    "## Iterables\n",
    "\n",
    "``` Iterables are objects that are capable of returning their members one at a time ```\n",
    "\n",
    "Some examples: \n",
    "- strings: 'Hannah'\n",
    "- lists: [1, 2, 3, 4]\n",
    "- tuples: (1, 2, 3, 4)\n",
    "- dictionaries: [key:value]\n",
    "\n",
    "We can return the elements of an iterable one-by-one using a for-loop.<br>\n",
    "An iterator is an object which is used to iterate through an iterable element. \n",
    "\n",
    "![Dogs_1](dogs_1.jpg)"
   ]
  },
  {
   "cell_type": "markdown",
   "metadata": {},
   "source": [
    "## Iterator \n",
    "\n",
    "In the above example, a group of dogs are standing in a line. You are pointing at the first dog and call him by his name. First dog barked. After that, you call the next dog and so on.\n",
    "In this case, a group of dogs is the **ITERABLE ELEMENT** and we are the **ITERATOR**.  \n",
    "\n",
    "``` Iterator is an object representing a stream of data i.e. iterable. ```\n",
    "\n",
    "![Iterator](iter1.png)\n",
    "\n"
   ]
  },
  {
   "cell_type": "markdown",
   "metadata": {},
   "source": [
    "## Iterator Protocol\n",
    "- Iterator implements something known as the Iterator protocol in Python.\n",
    "- Iterator protocol allows us to loop over items in an iterable using two methods: ```__iter__()``` and ```__next__()```\n",
    "- Iterator keeps track of the current state of an iterable\n",
    "- Iterables also have the ```__iter__()``` method which returns an iterator.\n",
    "\n",
    "![Iterator Protocol](iterator_protocol.png)\n"
   ]
  },
  {
   "cell_type": "code",
   "execution_count": 27,
   "metadata": {},
   "outputs": [
    {
     "name": "stdout",
     "output_type": "stream",
     "text": [
      "2\n",
      "4\n",
      "1\n",
      "9\n",
      "6\n",
      "In this case nums is a: <class 'list'>\n"
     ]
    }
   ],
   "source": [
    "nums = [2, 4, 1, 9, 6]\n",
    "\n",
    "for i in nums:\n",
    "    print(i)\n",
    "\n",
    "print('In this case nums is a:', type(nums))"
   ]
  },
  {
   "cell_type": "code",
   "execution_count": 4,
   "metadata": {},
   "outputs": [
    {
     "name": "stdout",
     "output_type": "stream",
     "text": [
      "2\n",
      "4\n",
      "1\n",
      "9\n",
      "6\n",
      "In this case nums is a: <class 'list_iterator'>\n"
     ]
    }
   ],
   "source": [
    "nums_iter = iter(nums) # by using the iter function we call the iterator\n",
    "\n",
    "print(next(nums_iter)) # 1st element\n",
    "print(next(nums_iter)) # 2nd element\n",
    "print(next(nums_iter)) # 3rd element\n",
    "print(next(nums_iter)) # 4th element\n",
    "print(next(nums_iter)) # 5th element\n",
    "\n",
    "print('In this case nums is a:', type(nums_iter))\n",
    "\n",
    "#print(next(nums_iter))"
   ]
  },
  {
   "cell_type": "markdown",
   "metadata": {},
   "source": [
    "### End of Iteration\n",
    "\n",
    "- But what if we overshoot the limit the number of times we call the ```next()``` method? What will happen then?\n",
    "- We get an error! If we try to access the next value after reaching the end of an iterable, a ```StopIteration``` exception will be raised which simply says “you can’t go further!”.\n",
    "- We can deal with this error using exception-handling. We can, in fact, use try/except block to handle these situations\n",
    "\n",
    "```StopIteration```: exception is thrown, meaning we reached the end of iteration\n"
   ]
  },
  {
   "cell_type": "code",
   "execution_count": null,
   "metadata": {},
   "outputs": [],
   "source": [
    "nums = [2, 4, 1, 9, 6]\n",
    "nums_iter = iter(nums) # by using the iter function we call the iterator\n",
    "\n",
    "''' All these print statements could also be written as print(nums_iter.__next__()) '''\n",
    "print(next(nums_iter)) # 1st element\n",
    "print(next(nums_iter)) # 2nd element\n",
    "print(next(nums_iter)) # 3rd element\n",
    "print(next(nums_iter)) # 4th element\n",
    "print(next(nums_iter)) # 5th element\n",
    "\n",
    "print('In this case nums is a:', type(nums_iter))\n",
    "\n",
    "print(next(nums_iter)) # 6th element?!"
   ]
  },
  {
   "cell_type": "code",
   "execution_count": 39,
   "metadata": {},
   "outputs": [
    {
     "name": "stdout",
     "output_type": "stream",
     "text": [
      "2\n",
      "4\n",
      "1\n",
      "9\n",
      "6\n"
     ]
    }
   ],
   "source": [
    "nums = [2, 4, 1, 9, 6]\n",
    "\n",
    "for i in nums:\n",
    "    print(i)\n",
    "\n",
    "# How can we do the same thing without the for loop\n",
    "\n"
   ]
  },
  {
   "cell_type": "markdown",
   "metadata": {},
   "source": [
    "## Build an Iterator\n",
    "\n",
    "![Build an iterator](build_an_iterator.jpg)\n",
    "\n",
    "We can loop over the Sequence class by creating its object and then calling the next() method on the object\n",
    "\n",
    "```\n",
    "iterator = MySequence()\n",
    "print(next(iterator))\n",
    "print(next(iterator))\n",
    "print(next(iterator))\n",
    "```\n",
    "\n",
    "- The ```__init__()``` method is a class constructor and is the first thing that gets executed when a class is called. It is used to assign any values initially that will be required by the class during the program execution. \n",
    "- The ```iter()``` and ```next()``` methods are what make this class an iterator\n",
    "- The ```iter()``` method returns the iterator object and initializes the iteration. Since the class object is itself an iterator, therefore it returns itself\n",
    "- The ```next()``` method returns the current value from the iterator and changes the state for the next call. \n"
   ]
  },
  {
   "cell_type": "code",
   "execution_count": 46,
   "metadata": {},
   "outputs": [
    {
     "name": "stdout",
     "output_type": "stream",
     "text": [
      "0\n",
      "2\n",
      "4\n",
      "6\n",
      "8\n"
     ]
    }
   ],
   "source": [
    "# Write an iterator that returns even numbers\n"
   ]
  },
  {
   "cell_type": "markdown",
   "metadata": {},
   "source": [
    "## Generators\n",
    "\n",
    "To implement an **ITERATOR** we need:\n",
    "- the __iter__ and __next__\n",
    "- track the internal state\n",
    "- raise StopIteration exception\n",
    "\n",
    "**GENERATOR** can do all that by themselves (almost...)\n",
    "\n",
    "Generators are also iterators, but are more elegant. <br> \n",
    "Generator can achieve the same thing as iterator, but without iter() and next() methods in a class. <br>\n",
    "We need to use ```yield``` keyword. \n",
    "\n",
    "Normal functions return values using the return keyword. Generator functions return values using a yield keyword. This is what sets the generator function apart from normal functions (apart from this distinction, they are absolutely the same).\n",
    "\n",
    "The yield keyword works like a normal return keyword but with additional functionality. Yield remembers the state of the function. So the next time the generator function is called, it doesn’t start from scratch but from where it was left-off in the last call.\n",
    "\n",
    "``` “Python generators are a simple way of creating iterators. In other words, a generator is a function that returns an object (iterator) which we can iterate over (one value at a time).” ```\n",
    "\n",
    "When we use ```return``` in a function, we assume that is when we want to terminate the function. The ```yield``` will simply pause the function and save its states. If a function has a *yield*, then it becomes a generator. \n",
    "\n"
   ]
  },
  {
   "cell_type": "code",
   "execution_count": 18,
   "metadata": {},
   "outputs": [
    {
     "name": "stdout",
     "output_type": "stream",
     "text": [
      "This is printed first\n",
      "1\n"
     ]
    }
   ],
   "source": [
    "def my_gen():\n",
    "    n = 1\n",
    "    print('This is printed first')\n",
    "    # Not a generator\n",
    "    return n\n",
    "\n",
    "g = my_gen()\n",
    "print(g)"
   ]
  },
  {
   "cell_type": "code",
   "execution_count": 38,
   "metadata": {},
   "outputs": [
    {
     "name": "stdout",
     "output_type": "stream",
     "text": [
      "This is printed first\n",
      "This is printed second\n",
      "This is printed at last\n"
     ]
    },
    {
     "data": {
      "text/plain": [
       "3"
      ]
     },
     "execution_count": 38,
     "metadata": {},
     "output_type": "execute_result"
    }
   ],
   "source": [
    "def my_gen():\n",
    "    n = 1\n",
    "    print('This is printed first')\n",
    "    # Generator function contains yield statements\n",
    "    yield n\n",
    "\n",
    "    n += 1\n",
    "    print('This is printed second')\n",
    "    yield n\n",
    "\n",
    "    n += 1\n",
    "    print('This is printed at last')\n",
    "    yield n\n",
    "\n",
    "g = my_gen()\n",
    "next(g)\n",
    "next(g)\n",
    "next(g)\n",
    "#next(g)"
   ]
  },
  {
   "cell_type": "code",
   "execution_count": 22,
   "metadata": {},
   "outputs": [
    {
     "name": "stdout",
     "output_type": "stream",
     "text": [
      "[1, 9, 36, 100]\n",
      "<generator object <genexpr> at 0x0000029E916B8510>\n",
      "1\n",
      "9\n",
      "36\n",
      "100\n"
     ]
    }
   ],
   "source": [
    "# GENERATOR EXPRESSION\n",
    "my_list = [1, 3, 6, 10]\n",
    "\n",
    "# NOTE: we square each term using list comprehension\n",
    "new_list = [x ** 2 for x in my_list]\n",
    "\n",
    "# NOTE: same thing can be done using a generator expression\n",
    "# generator expressions are surrounded by parenthesis () !\n",
    "generator = (x ** 2 for x in my_list)\n",
    "\n",
    "print(new_list)\n",
    "print(generator)\n",
    "\n",
    "# use next() or for loop to get items from generator\n",
    "for i in generator:\n",
    "    print(i)    # equivalent to print(next(generator))"
   ]
  },
  {
   "cell_type": "markdown",
   "metadata": {},
   "source": [
    "## Generators vs Iterators\n",
    "\n",
    "- Iterator serves as a holder for objects so that they can be iterated over\n",
    "- Generator facilitates the creation of a custom iterator.\n",
    "\n",
    "Generators are easier to implement. \n",
    "**Rule of thumb:** iterators to create classes, generators to create functions.\n",
    "\n",
    "![Generators vs Iterators](gen_vs_iter.jpg)\n"
   ]
  },
  {
   "cell_type": "code",
   "execution_count": 41,
   "metadata": {},
   "outputs": [],
   "source": [
    "class PowerThreeSequence:\n",
    "    def __init__(self, max_items=0):\n",
    "        self.n = 0\n",
    "        self.max = max_items\n",
    "\n",
    "    def __iter__(self):\n",
    "        return self\n",
    "\n",
    "    def __next__(self):\n",
    "        if self.n >= self.max:\n",
    "            raise StopIteration\n",
    "\n",
    "        result = 3 ** self.n\n",
    "        self.n += 1\n",
    "        return result"
   ]
  },
  {
   "cell_type": "code",
   "execution_count": 42,
   "metadata": {},
   "outputs": [
    {
     "name": "stdout",
     "output_type": "stream",
     "text": [
      "1\n",
      "3\n",
      "9\n",
      "27\n",
      "81\n",
      "1\n",
      "3\n",
      "9\n",
      "27\n",
      "81\n"
     ]
    }
   ],
   "source": [
    "# GENERATOR\n",
    "def power_three_sequence(max_items=0):\n",
    "    n = 0\n",
    "    while n < max_items:\n",
    "        yield 3 ** n\n",
    "        n += 1\n",
    "\n",
    "my_iter = PowerThreeSequence(5)\n",
    "for i in my_iter:\n",
    "    print(i)\n",
    "\n",
    "my_generator = power_three_sequence(5)\n",
    "for i in my_generator:\n",
    "    print(i)"
   ]
  },
  {
   "cell_type": "code",
   "execution_count": 26,
   "metadata": {},
   "outputs": [
    {
     "name": "stdout",
     "output_type": "stream",
     "text": [
      "Took 0.000000s\n"
     ]
    }
   ],
   "source": [
    "import random\n",
    "import time\n",
    "\n",
    "products = [\"hair\", \"gadgets\", \"clothing\", \"food\"]\n",
    "description = [\"something cool\", \"something slightly less cool\", \"something mega cool\"]\n",
    "\n",
    "\n",
    "def create_order(id):\n",
    "    return {\n",
    "        'id': id,\n",
    "        'product': random.choice(products),\n",
    "        'qty': random.randint(1, 5),\n",
    "        'description': random.choice(description)\n",
    "    }\n",
    "    \n",
    "\n",
    "def create_orders(n):\n",
    "    orders = []\n",
    "    for i in range(n): \n",
    "        orders.append(create_order(i))\n",
    "    \n",
    "    return orders\n",
    "\n",
    "def create_orders_gen(n):\n",
    "    i = 0\n",
    "    while i <= n:\n",
    "        yield create_order(n)\n",
    "        i += 1\n",
    "\n",
    "\n",
    "num_orders =  1000_000\n",
    "start = time.time()\n",
    "\n",
    "orders = create_orders(num_orders)\n",
    "# orders = create_orders_gen(num_orders)\n",
    "# list(orders)\n",
    "\n",
    "stop = time.time()\n",
    "\n",
    "print(f\"Took {stop - start:.6f}s\")\n"
   ]
  }
 ],
 "metadata": {
  "interpreter": {
   "hash": "468f25ad0239460415b7e6b7483d5c8f7213894121f6fb96c4cb6ef93fffe534"
  },
  "kernelspec": {
   "display_name": "Python 3",
   "language": "python",
   "name": "python3"
  },
  "language_info": {
   "codemirror_mode": {
    "name": "ipython",
    "version": 3
   },
   "file_extension": ".py",
   "mimetype": "text/x-python",
   "name": "python",
   "nbconvert_exporter": "python",
   "pygments_lexer": "ipython3",
   "version": "3.10.0"
  }
 },
 "nbformat": 4,
 "nbformat_minor": 4
}
